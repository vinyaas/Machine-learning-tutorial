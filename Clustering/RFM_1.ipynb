{
 "cells": [
  {
   "cell_type": "markdown",
   "metadata": {},
   "source": [
    "### What is RFM Analysis ?\n",
    "\n",
    "RFM analysis is a marketing technique used to quantitatively rank & group customers based on their transaction history .\n",
    "\n",
    "> - Recency : How recently a customer made a purchase .\n",
    "> - Frequency : How often a customer makes a purchase .\n",
    "> - Monetary : How much money a customer spends on purchases .\n",
    "\n",
    "### Why use RFM Analysis ?\n",
    "\n",
    "RFM helps businesses understand customer behaviour and segment customers to different groups for targeted marketing . Mainly used for customer segmentation ( identifying high value customers) , personalized marketing , customer retention\n",
    "\n",
    "RFM analysis is best used when you have transactional data and want to segment customers based on their purchasing behaviour . it is particularly useful for businesses with a large customer base and frequent transactions ."
   ]
  },
  {
   "cell_type": "code",
   "execution_count": 1,
   "metadata": {},
   "outputs": [
    {
     "data": {
      "text/html": [
       "<div>\n",
       "<style scoped>\n",
       "    .dataframe tbody tr th:only-of-type {\n",
       "        vertical-align: middle;\n",
       "    }\n",
       "\n",
       "    .dataframe tbody tr th {\n",
       "        vertical-align: top;\n",
       "    }\n",
       "\n",
       "    .dataframe thead th {\n",
       "        text-align: right;\n",
       "    }\n",
       "</style>\n",
       "<table border=\"1\" class=\"dataframe\">\n",
       "  <thead>\n",
       "    <tr style=\"text-align: right;\">\n",
       "      <th></th>\n",
       "      <th>CustomerID</th>\n",
       "      <th>TransactionDate</th>\n",
       "      <th>Amount</th>\n",
       "    </tr>\n",
       "  </thead>\n",
       "  <tbody>\n",
       "    <tr>\n",
       "      <th>0</th>\n",
       "      <td>1</td>\n",
       "      <td>2023-07-01</td>\n",
       "      <td>100</td>\n",
       "    </tr>\n",
       "    <tr>\n",
       "      <th>1</th>\n",
       "      <td>2</td>\n",
       "      <td>2023-06-15</td>\n",
       "      <td>200</td>\n",
       "    </tr>\n",
       "    <tr>\n",
       "      <th>2</th>\n",
       "      <td>1</td>\n",
       "      <td>2023-07-10</td>\n",
       "      <td>150</td>\n",
       "    </tr>\n",
       "    <tr>\n",
       "      <th>3</th>\n",
       "      <td>3</td>\n",
       "      <td>2023-05-20</td>\n",
       "      <td>300</td>\n",
       "    </tr>\n",
       "    <tr>\n",
       "      <th>4</th>\n",
       "      <td>2</td>\n",
       "      <td>2023-07-05</td>\n",
       "      <td>250</td>\n",
       "    </tr>\n",
       "  </tbody>\n",
       "</table>\n",
       "</div>"
      ],
      "text/plain": [
       "   CustomerID TransactionDate  Amount\n",
       "0           1      2023-07-01     100\n",
       "1           2      2023-06-15     200\n",
       "2           1      2023-07-10     150\n",
       "3           3      2023-05-20     300\n",
       "4           2      2023-07-05     250"
      ]
     },
     "execution_count": 1,
     "metadata": {},
     "output_type": "execute_result"
    }
   ],
   "source": [
    "import pandas as pd\n",
    "\n",
    "# Sample data\n",
    "data = {\n",
    "    'CustomerID': [1, 2, 1, 3, 2],\n",
    "    'TransactionDate': ['2023-07-01', '2023-06-15', '2023-07-10', '2023-05-20', '2023-07-05'],\n",
    "    'Amount': [100, 200, 150, 300, 250]\n",
    "}\n",
    "df = pd.DataFrame(data)\n",
    "df"
   ]
  },
  {
   "cell_type": "code",
   "execution_count": 3,
   "metadata": {},
   "outputs": [],
   "source": [
    "df['TransactionDate'] = pd.to_datetime(df['TransactionDate'])"
   ]
  },
  {
   "cell_type": "code",
   "execution_count": 14,
   "metadata": {},
   "outputs": [
    {
     "data": {
      "text/html": [
       "<div>\n",
       "<style scoped>\n",
       "    .dataframe tbody tr th:only-of-type {\n",
       "        vertical-align: middle;\n",
       "    }\n",
       "\n",
       "    .dataframe tbody tr th {\n",
       "        vertical-align: top;\n",
       "    }\n",
       "\n",
       "    .dataframe thead th {\n",
       "        text-align: right;\n",
       "    }\n",
       "</style>\n",
       "<table border=\"1\" class=\"dataframe\">\n",
       "  <thead>\n",
       "    <tr style=\"text-align: right;\">\n",
       "      <th></th>\n",
       "      <th>CustomerID</th>\n",
       "      <th>Recency</th>\n",
       "      <th>Frequency</th>\n",
       "      <th>Monetary</th>\n",
       "    </tr>\n",
       "  </thead>\n",
       "  <tbody>\n",
       "    <tr>\n",
       "      <th>0</th>\n",
       "      <td>1</td>\n",
       "      <td>5</td>\n",
       "      <td>2</td>\n",
       "      <td>250</td>\n",
       "    </tr>\n",
       "    <tr>\n",
       "      <th>1</th>\n",
       "      <td>2</td>\n",
       "      <td>10</td>\n",
       "      <td>2</td>\n",
       "      <td>450</td>\n",
       "    </tr>\n",
       "    <tr>\n",
       "      <th>2</th>\n",
       "      <td>3</td>\n",
       "      <td>56</td>\n",
       "      <td>1</td>\n",
       "      <td>300</td>\n",
       "    </tr>\n",
       "  </tbody>\n",
       "</table>\n",
       "</div>"
      ],
      "text/plain": [
       "   CustomerID  Recency  Frequency  Monetary\n",
       "0           1        5          2       250\n",
       "1           2       10          2       450\n",
       "2           3       56          1       300"
      ]
     },
     "execution_count": 14,
     "metadata": {},
     "output_type": "execute_result"
    }
   ],
   "source": [
    "#Calculating RFM Metrics :\n",
    "\n",
    "reference_date = pd.to_datetime('2023-07-15')\n",
    "\n",
    "rfm = df.groupby('CustomerID').agg({\n",
    "    'TransactionDate' : lambda x : (reference_date - x.max()).days , \n",
    "    'CustomerID' : 'count' , \n",
    "    'Amount' : 'sum'\n",
    "})\n",
    "\n",
    "rfm = rfm.rename(columns={\n",
    "    'TransactionDate': 'Recency',\n",
    "    'CustomerID': 'Frequency',\n",
    "    'Amount': 'Monetary'\n",
    "}).reset_index()\n",
    "\n",
    "rfm"
   ]
  },
  {
   "cell_type": "markdown",
   "metadata": {},
   "source": [
    "#### Assigning scores"
   ]
  },
  {
   "cell_type": "code",
   "execution_count": 24,
   "metadata": {},
   "outputs": [],
   "source": [
    "rfm['R_Score'] = pd.qcut(rfm['Recency'], 4, [4, 3, 2, 1])"
   ]
  },
  {
   "cell_type": "markdown",
   "metadata": {},
   "source": [
    ">- pd.qcut: This function divides the data into equal-sized bins based on the quantiles.\n",
    ">- rfm['Recency']: The column containing the recency values.\n",
    ">- 4: The number of quantiles (quartiles) to divide the data into.\n",
    ">- [4, 3, 2, 1]: The scores assigned to each quartile. The lowest recency (most recent transactions) gets the highest score  (4), and the highest recency (least recent transactions) gets the lowest score (1)."
   ]
  },
  {
   "cell_type": "code",
   "execution_count": 25,
   "metadata": {},
   "outputs": [],
   "source": [
    "rfm['F_Score'] = pd.qcut(rfm['Frequency'].rank(method='first'), 4, [1, 2, 3, 4])"
   ]
  },
  {
   "cell_type": "markdown",
   "metadata": {},
   "source": [
    "> - rfm['Frequency'].rank(method='first'): This ranks the frequency values. The method='first' ensures that ties are assigned ranks in the order they appear.\n",
    "> - 4: The number of quantiles (quartiles) to divide the data into.\n",
    "> - [1, 2, 3, 4]: The scores assigned to each quartile. The lowest frequency gets the lowest score (1), and the highest frequency gets the highest score (4)."
   ]
  },
  {
   "cell_type": "code",
   "execution_count": 26,
   "metadata": {},
   "outputs": [],
   "source": [
    "rfm['M_Score'] = pd.qcut(rfm['Monetary'], 4, [1, 2, 3, 4])"
   ]
  },
  {
   "cell_type": "markdown",
   "metadata": {},
   "source": [
    ">- rfm['Monetary']: The column containing the monetary values.\n",
    ">- 4: The number of quantiles (quartiles) to divide the data into.\n",
    ">- [1, 2, 3, 4]: The scores assigned to each quartile. The lowest monetary value gets the lowest score (1), and the highest monetary value gets the highest score (4)."
   ]
  },
  {
   "cell_type": "markdown",
   "metadata": {},
   "source": [
    "### Calculating the combined rfm score"
   ]
  },
  {
   "cell_type": "code",
   "execution_count": 28,
   "metadata": {},
   "outputs": [],
   "source": [
    "rfm['RFM_Score'] = rfm['R_Score'].astype(str) + rfm['F_Score'].astype(str) + rfm['M_Score'].astype(str)\n",
    "#concatenates the score "
   ]
  },
  {
   "cell_type": "code",
   "execution_count": 30,
   "metadata": {},
   "outputs": [
    {
     "data": {
      "text/html": [
       "<div>\n",
       "<style scoped>\n",
       "    .dataframe tbody tr th:only-of-type {\n",
       "        vertical-align: middle;\n",
       "    }\n",
       "\n",
       "    .dataframe tbody tr th {\n",
       "        vertical-align: top;\n",
       "    }\n",
       "\n",
       "    .dataframe thead th {\n",
       "        text-align: right;\n",
       "    }\n",
       "</style>\n",
       "<table border=\"1\" class=\"dataframe\">\n",
       "  <thead>\n",
       "    <tr style=\"text-align: right;\">\n",
       "      <th></th>\n",
       "      <th>CustomerID</th>\n",
       "      <th>Recency</th>\n",
       "      <th>Frequency</th>\n",
       "      <th>Monetary</th>\n",
       "      <th>R_Score</th>\n",
       "      <th>F_Score</th>\n",
       "      <th>M_Score</th>\n",
       "      <th>RFM_Score</th>\n",
       "    </tr>\n",
       "  </thead>\n",
       "  <tbody>\n",
       "    <tr>\n",
       "      <th>0</th>\n",
       "      <td>1</td>\n",
       "      <td>5</td>\n",
       "      <td>2</td>\n",
       "      <td>250</td>\n",
       "      <td>4</td>\n",
       "      <td>2</td>\n",
       "      <td>1</td>\n",
       "      <td>421</td>\n",
       "    </tr>\n",
       "    <tr>\n",
       "      <th>1</th>\n",
       "      <td>2</td>\n",
       "      <td>10</td>\n",
       "      <td>2</td>\n",
       "      <td>450</td>\n",
       "      <td>3</td>\n",
       "      <td>4</td>\n",
       "      <td>4</td>\n",
       "      <td>344</td>\n",
       "    </tr>\n",
       "    <tr>\n",
       "      <th>2</th>\n",
       "      <td>3</td>\n",
       "      <td>56</td>\n",
       "      <td>1</td>\n",
       "      <td>300</td>\n",
       "      <td>1</td>\n",
       "      <td>1</td>\n",
       "      <td>2</td>\n",
       "      <td>112</td>\n",
       "    </tr>\n",
       "  </tbody>\n",
       "</table>\n",
       "</div>"
      ],
      "text/plain": [
       "   CustomerID  Recency  Frequency  Monetary R_Score F_Score M_Score RFM_Score\n",
       "0           1        5          2       250       4       2       1       421\n",
       "1           2       10          2       450       3       4       4       344\n",
       "2           3       56          1       300       1       1       2       112"
      ]
     },
     "execution_count": 30,
     "metadata": {},
     "output_type": "execute_result"
    }
   ],
   "source": [
    "rfm"
   ]
  },
  {
   "cell_type": "markdown",
   "metadata": {},
   "source": [
    "## RFM Analysis\n",
    "\n",
    "### Customer 0\n",
    "- **Recency (R_Score: 4)**: This customer has made a purchase recently.\n",
    "- **Frequency (F_Score: 2)**: They have made a moderate number of purchases.\n",
    "- **Monetary (M_Score: 1)**: Their total spending is relatively low.\n",
    "- **RFM Score: 421**: This customer is relatively recent but not very frequent or high-spending.\n",
    "\n",
    "### Customer 1\n",
    "- **Recency (R_Score: 3)**: This customer has made a purchase somewhat recently.\n",
    "- **Frequency (F_Score: 4)**: They have made a high number of purchases.\n",
    "- **Monetary (M_Score: 4)**: Their total spending is high.\n",
    "- **RFM Score: 344**: This customer is frequent and high-spending, but not the most recent.\n",
    "\n",
    "### Customer 2\n",
    "- **Recency (R_Score: 1)**: This customer has not made a purchase in a long time.\n",
    "- **Frequency (F_Score: 1)**: They have made very few purchases.\n",
    "- **Monetary (M_Score: 2)**: Their total spending is moderate.\n",
    "- **RFM Score: 112**: This customer is infrequent, not recent, and has moderate spending.\n",
    "\n",
    "## Insights\n",
    "\n",
    "- **Customer 0**: This customer might be a new or occasional buyer. They have made a recent purchase, so it could be beneficial to engage them with follow-up offers or incentives to increase their frequency and spending.\n",
    "- **Customer 1**: This is a valuable customer who buys frequently and spends a lot. Maintaining a strong relationship with them through loyalty programs, personalized offers, and excellent customer service could be key to retaining them.\n",
    "- **Customer 2**: This customer is at risk of churning. They haven't purchased in a while and don't buy often. Re-engagement strategies such as special discounts, reminders, or personalized communication might help bring them back.\n"
   ]
  },
  {
   "cell_type": "markdown",
   "metadata": {},
   "source": []
  }
 ],
 "metadata": {
  "kernelspec": {
   "display_name": "Python 3",
   "language": "python",
   "name": "python3"
  },
  "language_info": {
   "codemirror_mode": {
    "name": "ipython",
    "version": 3
   },
   "file_extension": ".py",
   "mimetype": "text/x-python",
   "name": "python",
   "nbconvert_exporter": "python",
   "pygments_lexer": "ipython3",
   "version": "3.11.1"
  }
 },
 "nbformat": 4,
 "nbformat_minor": 2
}
