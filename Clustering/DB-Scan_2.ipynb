{
 "cells": [
  {
   "cell_type": "markdown",
   "metadata": {},
   "source": [
    "# DBSCAN Parameters Explained\n",
    "\n",
    "DBSCAN (Density-Based Spatial Clustering of Applications with Noise) is a powerful clustering algorithm that requires two main parameters: `eps` and `min_samples`. Here, we'll explain these parameters and a few additional ones that can be used to fine-tune the algorithm.\n",
    "\n",
    "## Main Parameters\n",
    "\n",
    "### 1. `eps` (epsilon)\n",
    "- **Definition:** The maximum distance between two samples for one to be considered as in the neighborhood of the other.\n",
    "- **Role:** Defines the radius of the neighborhood around a point. Smaller values of `eps` result in smaller clusters, while larger values can merge clusters together.\n",
    "- **How to Choose:** Use a k-distance graph to find the optimal `eps` value. Plot the distances of each point to its k-th nearest neighbor and look for the \"elbow\" point.\n",
    "\n",
    "### 2. `min_samples`\n",
    "- **Definition:** The number of samples (or total weight) in a neighborhood for a point to be considered as a core point.\n",
    "- **Role:** Determines the minimum number of points required to form a dense region. Higher values of `min_samples` result in fewer, larger clusters, while lower values can create more, smaller clusters.\n",
    "- **How to Choose:** A common heuristic is to set `min_samples` to be at least the number of dimensions plus one (e.g., for 2D data, `min_samples` should be at least 3).\n",
    "\n",
    "## Additional Parameters\n",
    "\n",
    "### 3. `metric`\n",
    "- **Definition:** The distance metric used to calculate the distance between points.\n",
    "- **Default:** `'euclidean'`\n",
    "- **Options:** Can be any metric from `scipy.spatial.distance` (e.g., `'manhattan'`, `'cosine'`, etc.).\n",
    "- **Role:** Defines how the distance between points is calculated. Different metrics can affect the shape and size of the clusters.\n",
    "\n",
    "### 4. `algorithm`\n",
    "- **Definition:** The algorithm used to compute the nearest neighbors.\n",
    "- **Default:** `'auto'`\n",
    "- **Options:** `'auto'`, `'ball_tree'`, `'kd_tree'`, `'brute'`.\n",
    "- **Role:** Determines the method used to find the nearest neighbors. `'auto'` will attempt to choose the best algorithm based on the input data.\n",
    "\n",
    "### 5. `leaf_size`\n",
    "- **Definition:** Leaf size passed to BallTree or KDTree.\n",
    "- **Default:** `30`\n",
    "- **Role:** Affects the speed of the construction and query of the tree. The optimal value depends on the nature of the problem.\n",
    "\n",
    "### 6. `p`\n",
    "- **Definition:** The power of the Minkowski metric to be used.\n",
    "- **Default:** `2` (which is equivalent to the Euclidean distance).\n",
    "- **Role:** Used when `metric` is set to `'minkowski'`. Defines the order of the norm of the Minkowski distance."
   ]
  },
  {
   "cell_type": "code",
   "execution_count": 1,
   "metadata": {},
   "outputs": [],
   "source": [
    "import pandas as pd \n",
    "import numpy as np \n",
    "import matplotlib.pyplot as plt \n",
    "from sklearn.preprocessing import LabelEncoder , StandardScaler\n",
    "from sklearn.cluster import DBSCAN"
   ]
  },
  {
   "cell_type": "code",
   "execution_count": 2,
   "metadata": {},
   "outputs": [
    {
     "data": {
      "text/html": [
       "<div>\n",
       "<style scoped>\n",
       "    .dataframe tbody tr th:only-of-type {\n",
       "        vertical-align: middle;\n",
       "    }\n",
       "\n",
       "    .dataframe tbody tr th {\n",
       "        vertical-align: top;\n",
       "    }\n",
       "\n",
       "    .dataframe thead th {\n",
       "        text-align: right;\n",
       "    }\n",
       "</style>\n",
       "<table border=\"1\" class=\"dataframe\">\n",
       "  <thead>\n",
       "    <tr style=\"text-align: right;\">\n",
       "      <th></th>\n",
       "      <th>CustomerID</th>\n",
       "      <th>Gender</th>\n",
       "      <th>Age</th>\n",
       "      <th>Annual Income (k$)</th>\n",
       "      <th>Spending Score (1-100)</th>\n",
       "    </tr>\n",
       "  </thead>\n",
       "  <tbody>\n",
       "    <tr>\n",
       "      <th>0</th>\n",
       "      <td>1</td>\n",
       "      <td>Male</td>\n",
       "      <td>19</td>\n",
       "      <td>15</td>\n",
       "      <td>39</td>\n",
       "    </tr>\n",
       "    <tr>\n",
       "      <th>1</th>\n",
       "      <td>2</td>\n",
       "      <td>Male</td>\n",
       "      <td>21</td>\n",
       "      <td>15</td>\n",
       "      <td>81</td>\n",
       "    </tr>\n",
       "    <tr>\n",
       "      <th>2</th>\n",
       "      <td>3</td>\n",
       "      <td>Female</td>\n",
       "      <td>20</td>\n",
       "      <td>16</td>\n",
       "      <td>6</td>\n",
       "    </tr>\n",
       "  </tbody>\n",
       "</table>\n",
       "</div>"
      ],
      "text/plain": [
       "   CustomerID  Gender  Age  Annual Income (k$)  Spending Score (1-100)\n",
       "0           1    Male   19                  15                      39\n",
       "1           2    Male   21                  15                      81\n",
       "2           3  Female   20                  16                       6"
      ]
     },
     "execution_count": 2,
     "metadata": {},
     "output_type": "execute_result"
    }
   ],
   "source": [
    "df = pd.read_csv('Mall_Customers.csv')\n",
    "df.head(3)"
   ]
  },
  {
   "cell_type": "code",
   "execution_count": 3,
   "metadata": {},
   "outputs": [
    {
     "data": {
      "text/plain": [
       "Index(['CustomerID', 'Gender', 'Age', 'Annual Income (k$)',\n",
       "       'Spending Score (1-100)'],\n",
       "      dtype='object')"
      ]
     },
     "execution_count": 3,
     "metadata": {},
     "output_type": "execute_result"
    }
   ],
   "source": [
    "df.columns"
   ]
  },
  {
   "cell_type": "code",
   "execution_count": 4,
   "metadata": {},
   "outputs": [],
   "source": [
    "# data processing \n",
    "\n",
    "encoder = LabelEncoder()\n",
    "df['Gender'] = encoder.fit_transform(df['Gender'])\n",
    "\n",
    "x = df.drop('CustomerID' , axis = 1)\n",
    "scaler = StandardScaler()\n",
    "x_scaled = scaler.fit_transform(x)\n"
   ]
  },
  {
   "cell_type": "code",
   "execution_count": 5,
   "metadata": {},
   "outputs": [],
   "source": [
    "#compute the k nearest neighbours \n",
    "\n",
    "from sklearn.neighbors import NearestNeighbors\n",
    "k = 3 #typically k = min_samples - 1\n",
    "neigbours = NearestNeighbors(n_neighbors=k)\n",
    "neighbours_fit = neigbours.fit(x_scaled)\n",
    "distances , indices = neighbours_fit.kneighbors(x_scaled)"
   ]
  },
  {
   "cell_type": "code",
   "execution_count": 6,
   "metadata": {},
   "outputs": [],
   "source": [
    "#sort the distances to the k-th nearest neighbour\n",
    "distances = np.sort(distances[: , k-1] , axis = 0)"
   ]
  },
  {
   "cell_type": "markdown",
   "metadata": {},
   "source": [
    "### Recommendation\n",
    "\n",
    "Start with the Graph Approach: It’s quick and gives you a good initial estimate.\n",
    "\n",
    "Use the Systematic Approach for Confirmation: If the elbow point is not clear or if you want to ensure precision, apply the systematic approach to validate your findings."
   ]
  },
  {
   "cell_type": "code",
   "execution_count": 7,
   "metadata": {},
   "outputs": [
    {
     "data": {
      "image/png": "[encoded data removed]",
      "text/plain": [
       "<Figure size 1600x800 with 1 Axes>"
      ]
     },
     "metadata": {},
     "output_type": "display_data"
    }
   ],
   "source": [
    "#plot the k_th nearest neighbour\n",
    "\n",
    "plt.figure(figsize = (16,8))\n",
    "plt.plot(distances)\n",
    "plt.xlabel('Points')\n",
    "plt.ylabel('Distance')\n",
    "plt.title('k-distance graph')\n",
    "for y in [0.2 , 0.4 , 0.6 , 0.8 , 1 , 1.2 , 1.4 , 1.6 , 1.8]:\n",
    "    plt.axhline(y=y, color='r', linestyle='--')\n",
    "plt.show()"
   ]
  },
  {
   "cell_type": "code",
   "execution_count": 11,
   "metadata": {},
   "outputs": [
    {
     "data": {
      "text/plain": [
       "array([0.16870371, 0.17303595, 0.17303595, 0.17840019, 0.18016078,\n",
       "       0.18571321, 0.18732831, 0.18732831, 0.18767283, 0.18767283,\n",
       "       0.1941078 , 0.20755771, 0.2104405 , 0.2104405 , 0.214878  ,\n",
       "       0.22347432, 0.2288724 , 0.22929187, 0.22929187, 0.23170856,\n",
       "       0.23879796, 0.24141183, 0.24141183, 0.24141183, 0.24141183,\n",
       "       0.24511979, 0.24692789, 0.2554098 , 0.2554098 , 0.25717461,\n",
       "       0.27441842, 0.27625138, 0.27625138, 0.27669913, 0.28120967,\n",
       "       0.28151542, 0.28364754, 0.28760569, 0.2891022 , 0.29956979,\n",
       "       0.30017135, 0.30329885, 0.30329885, 0.30623263, 0.30781334,\n",
       "       0.30903427, 0.30903427, 0.30956288, 0.30968904, 0.30979242,\n",
       "       0.31213499, 0.31331838, 0.31367563, 0.33025172, 0.33025172,\n",
       "       0.3302779 , 0.3302779 , 0.33100969, 0.3345989 , 0.33518467,\n",
       "       0.33722745, 0.34653306, 0.35054917, 0.35202371, 0.35202371,\n",
       "       0.35500747, 0.35668846, 0.35942766, 0.36273041, 0.36713744,\n",
       "       0.36713744, 0.368877  , 0.36927365, 0.36976183, 0.3723052 ,\n",
       "       0.37663815, 0.38031515, 0.38779812, 0.3912273 , 0.39606747,\n",
       "       0.39871009, 0.40210625, 0.4045359 , 0.4045359 , 0.4045359 ,\n",
       "       0.41744214, 0.42089949, 0.42089949, 0.4217932 , 0.4237351 ,\n",
       "       0.42950488, 0.43228854, 0.43228854, 0.43413969, 0.43418755,\n",
       "       0.43418755, 0.43470462, 0.44212316, 0.44385623, 0.44415375,\n",
       "       0.44949003, 0.45260684, 0.45406856, 0.45406856, 0.45859693,\n",
       "       0.46053518, 0.46187347, 0.46809597, 0.46962586, 0.47117235,\n",
       "       0.47457003, 0.47531094, 0.47727771, 0.47802599, 0.47802599,\n",
       "       0.48771413, 0.49521307, 0.49521307, 0.49610201, 0.49910295,\n",
       "       0.50013409, 0.50013409, 0.50503327, 0.50852477, 0.51009801,\n",
       "       0.51057552, 0.51060939, 0.51070414, 0.51153911, 0.51403162,\n",
       "       0.51403162, 0.51434923, 0.51525196, 0.52608073, 0.52825051,\n",
       "       0.53179572, 0.53955985, 0.53955985, 0.54485955, 0.54720351,\n",
       "       0.54720351, 0.55060187, 0.55374048, 0.55701553, 0.55905619,\n",
       "       0.56417584, 0.5647686 , 0.56621977, 0.56621977, 0.57859039,\n",
       "       0.57935978, 0.58978204, 0.59016993, 0.59233535, 0.59950147,\n",
       "       0.60296831, 0.60640785, 0.61337888, 0.61337888, 0.62075945,\n",
       "       0.63105815, 0.63946181, 0.64609675, 0.6520455 , 0.65794277,\n",
       "       0.66436695, 0.66483432, 0.6702086 , 0.67105135, 0.68844497,\n",
       "       0.69314658, 0.69857313, 0.72185471, 0.7453725 , 0.75773807,\n",
       "       0.76116314, 0.76375815, 0.77972382, 0.79648047, 0.7993284 ,\n",
       "       0.81542087, 0.84292269, 0.84776541, 0.84776541, 0.86548116,\n",
       "       0.88362925, 0.8956575 , 0.89872183, 0.93529168, 0.95407858,\n",
       "       0.96361192, 1.01758095, 1.01845499, 1.02084243, 1.02334219,\n",
       "       1.20856954, 1.24811306, 1.49928372, 1.53846858, 1.79972407])"
      ]
     },
     "execution_count": 11,
     "metadata": {},
     "output_type": "execute_result"
    }
   ],
   "source": [
    "distances"
   ]
  },
  {
   "cell_type": "markdown",
   "metadata": {},
   "source": [
    "Here we can see there is a sudden rise at 1.00 . we can consider it as our epsilon value "
   ]
  },
  {
   "cell_type": "code",
   "execution_count": 8,
   "metadata": {},
   "outputs": [
    {
     "name": "stdout",
     "output_type": "stream",
     "text": [
      "Optimal Epsilon value : 1.5384685848757307\n"
     ]
    }
   ],
   "source": [
    "#calculate the second derivative of the distances \n",
    "second_derivative = np.diff(distances , n = 2)\n",
    "\n",
    "#find the index of maximum curvature\n",
    "elbow_index = np.argmax(second_derivative) + 1\n",
    "\n",
    "#optimal epsilon value\n",
    "optimal_epsilon = distances[elbow_index]\n",
    "\n",
    "print(f'Optimal Epsilon value : {optimal_epsilon}')"
   ]
  },
  {
   "cell_type": "markdown",
   "metadata": {},
   "source": [
    "### Guidelines for Choosing min_samples\n",
    "\n",
    "Rule of Thumb:\n",
    "A common starting point is to set min_samples to be at least the number of dimensions (D) in your dataset plus one: min_samples ≥ D + 1.\n",
    "For example, if your dataset has 3 features, you might start with min_samples = 4.\n",
    "\n",
    "Domain Knowledge:\n",
    "Use any domain-specific knowledge you have about the data to set a reasonable value. For example, if you know that clusters should have at least 10 points to be meaningful, you might set min_samples = 10.\n",
    "\n",
    "Experimentation:\n",
    "Try different values of min_samples and evaluate the clustering results. Higher values can help in identifying more significant clusters and reducing noise."
   ]
  },
  {
   "cell_type": "code",
   "execution_count": 9,
   "metadata": {},
   "outputs": [
    {
     "data": {
      "text/plain": [
       "5"
      ]
     },
     "execution_count": 9,
     "metadata": {},
     "output_type": "execute_result"
    }
   ],
   "source": [
    "# according to our dataset we have 4 features excluding customer id . so min_samples = 4\n",
    "len(df.columns)"
   ]
  },
  {
   "cell_type": "markdown",
   "metadata": {},
   "source": [
    "## Key Points to Consider\n",
    "\n",
    "### Number of Clusters:\n",
    "- Observe how the number of clusters changes with different `min_samples` values.\n",
    "- Too few clusters might indicate that `min_samples` is too high, causing many points to be considered noise.\n",
    "- Too many clusters might indicate that `min_samples` is too low, leading to over-segmentation.\n",
    "\n",
    "### Noise Points:\n",
    "- Noise points are typically labeled as `-1` in DBSCAN.\n",
    "- A higher number of noise points might suggest that `min_samples` is too high.\n",
    "- A lower number of noise points might suggest that `min_samples` is too low.\n",
    "\n",
    "### Cluster Shape and Density:\n",
    "- Look at the shape and density of the clusters.\n",
    "- Ideally, clusters should be well-defined and dense, without too many scattered points.\n",
    "\n",
    "## Example Interpretation\n",
    "\n",
    "Let’s say you have the following graphs for different `min_samples` values:\n",
    "\n",
    "### `min_samples = 3`\n",
    "- **Clusters**: Several small clusters.\n",
    "- **Noise Points**: Few noise points.\n",
    "- **Interpretation**: `min_samples` might be too low, leading to over-segmentation.\n",
    "\n",
    "### `min_samples = 4`\n",
    "- **Clusters**: A moderate number of clusters.\n",
    "- **Noise Points**: Some noise points.\n",
    "- **Interpretation**: This might be a balanced value, with well-defined clusters and a reasonable number of noise points.\n",
    "\n",
    "### `min_samples = 5`\n",
    "- **Clusters**: Fewer, larger clusters.\n",
    "- **Noise Points**: More noise points.\n",
    "- **Interpretation**: `min_samples` might be slightly high, causing some points to be considered noise.\n",
    "\n",
    "### `min_samples = 6`\n",
    "- **Clusters**: Even fewer clusters.\n",
    "- **Noise Points**: A significant number of noise points.\n",
    "- **Interpretation**: `min_samples` might be too high, leading to many points being considered noise.\n",
    "\n",
    "### `min_samples = 7`\n",
    "- **Clusters**: Very few clusters.\n",
    "- **Noise Points**: A large number of noise points.\n",
    "- **Interpretation**: `min_samples` is likely too high, resulting in most points being considered noise.\n",
    "\n",
    "## Choosing the Best Value\n",
    "\n",
    "- **Balanced Clustering**: Look for a value of `min_samples` that provides a good balance between the number of clusters and noise points.\n",
    "- **Domain Knowledge**: Use your domain knowledge to validate the clustering results. For example, if you expect a certain number of clusters based on prior knowledge, choose the `min_samples` value that aligns with this expectation.\n"
   ]
  }
 ],
 "metadata": {
  "kernelspec": {
   "display_name": "Python 3",
   "language": "python",
   "name": "python3"
  },
  "language_info": {
   "codemirror_mode": {
    "name": "ipython",
    "version": 3
   },
   "file_extension": ".py",
   "mimetype": "text/x-python",
   "name": "python",
   "nbconvert_exporter": "python",
   "pygments_lexer": "ipython3",
   "version": "3.12.5"
  }
 },
 "nbformat": 4,
 "nbformat_minor": 2
}
